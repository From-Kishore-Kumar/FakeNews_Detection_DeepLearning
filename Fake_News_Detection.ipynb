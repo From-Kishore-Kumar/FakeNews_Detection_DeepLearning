{
 "cells": [
  {
   "cell_type": "markdown",
   "id": "59051eaf-e8f8-43b6-b2dc-fb743d7348b1",
   "metadata": {},
   "source": [
    "# Deep Learning Model for Fake News Detection"
   ]
  },
  {
   "cell_type": "code",
   "execution_count": 1,
   "id": "60ea970a-a0b4-4b83-862c-4588470cc1d3",
   "metadata": {},
   "outputs": [],
   "source": [
    "# Load and Prepare Data\n",
    "import pandas as pd\n",
    "from sklearn import preprocessing\n",
    "\n",
    "data = pd.read_csv(\"news.csv\")\n",
    "data = data.drop([\"Unnamed: 0\"], axis=1)\n",
    "\n",
    "le = preprocessing.LabelEncoder()\n",
    "le.fit(data['label'])\n",
    "data['label'] = le.transform(data['label'])"
   ]
  },
  {
   "cell_type": "code",
   "execution_count": 2,
   "id": "dc5fee7a-ad58-4a37-acfe-48bd39baaa9b",
   "metadata": {},
   "outputs": [
    {
     "name": "stderr",
     "output_type": "stream",
     "text": [
      "2024-05-30 17:55:09.262228: I tensorflow/core/platform/cpu_feature_guard.cc:182] This TensorFlow binary is optimized to use available CPU instructions in performance-critical operations.\n",
      "To enable the following instructions: SSE4.1 SSE4.2 AVX AVX2 AVX512F AVX512_VNNI FMA, in other operations, rebuild TensorFlow with the appropriate compiler flags.\n"
     ]
    }
   ],
   "source": [
    "# Tokenize and Pad Sequence\n",
    "from tensorflow.keras.preprocessing.text import Tokenizer\n",
    "from tensorflow.keras.preprocessing.sequence import pad_sequences\n",
    "\n",
    "tokenizer1 = Tokenizer()\n",
    "tokenizer1.fit_on_texts(data['title'])\n",
    "sequences1 = tokenizer1.texts_to_sequences(data['title'])\n",
    "padded1 = pad_sequences(sequences1, padding='post', truncating='post', maxlen=54)\n",
    "\n",
    "training_size = 3000\n",
    "test_portion = 0.1\n",
    "split = int(test_portion * training_size)\n",
    "\n",
    "training_sequences1 = padded1[split:training_size]\n",
    "test_sequences1 = padded1[0:split]\n",
    "\n",
    "labels = data['label'].tolist()\n",
    "training_labels = labels[split:training_size]\n",
    "test_labels = labels[0:split]"
   ]
  },
  {
   "cell_type": "code",
   "execution_count": 3,
   "id": "53770374-4bce-4905-8974-246c631c4cbb",
   "metadata": {},
   "outputs": [],
   "source": [
    "# Load GloVe Embeddings\n",
    "import numpy as np\n",
    "\n",
    "embeddings_index = {}\n",
    "with open('glove.6B.50d.txt') as f:\n",
    "    for line in f:\n",
    "        values = line.split()\n",
    "        word = values[0]\n",
    "        coefs = np.asarray(values[1:], dtype='float32')\n",
    "        embeddings_index[word] = coefs\n",
    "\n",
    "vocab_size1 = len(tokenizer1.word_index)\n",
    "embedding_dim = 50\n",
    "embeddings_matrix = np.zeros((vocab_size1 + 1, embedding_dim))\n",
    "\n",
    "for word, i in tokenizer1.word_index.items():\n",
    "    embedding_vector = embeddings_index.get(word)\n",
    "    if embedding_vector is not None:\n",
    "        embeddings_matrix[i] = embedding_vector"
   ]
  },
  {
   "cell_type": "code",
   "execution_count": 4,
   "id": "8fce64a2-5f0a-4d8f-a652-8756afbc14f6",
   "metadata": {},
   "outputs": [
    {
     "name": "stderr",
     "output_type": "stream",
     "text": [
      "2024-05-30 17:55:15.275628: I tensorflow/core/common_runtime/process_util.cc:146] Creating new thread pool with default inter op setting: 2. Tune using inter_op_parallelism_threads for best performance.\n"
     ]
    },
    {
     "name": "stdout",
     "output_type": "stream",
     "text": [
      "Epoch 1/50\n"
     ]
    },
    {
     "name": "stderr",
     "output_type": "stream",
     "text": [
      "2024-05-30 17:55:15.556958: I tensorflow/core/common_runtime/executor.cc:1197] [/device:CPU:0] (DEBUG INFO) Executor start aborting (this does not indicate an error and you can ignore this message): INVALID_ARGUMENT: You must feed a value for placeholder tensor 'gradients/split_2_grad/concat/split_2/split_dim' with dtype int32\n",
      "\t [[{{node gradients/split_2_grad/concat/split_2/split_dim}}]]\n",
      "2024-05-30 17:55:15.558604: I tensorflow/core/common_runtime/executor.cc:1197] [/device:CPU:0] (DEBUG INFO) Executor start aborting (this does not indicate an error and you can ignore this message): INVALID_ARGUMENT: You must feed a value for placeholder tensor 'gradients/split_grad/concat/split/split_dim' with dtype int32\n",
      "\t [[{{node gradients/split_grad/concat/split/split_dim}}]]\n",
      "2024-05-30 17:55:15.559572: I tensorflow/core/common_runtime/executor.cc:1197] [/device:CPU:0] (DEBUG INFO) Executor start aborting (this does not indicate an error and you can ignore this message): INVALID_ARGUMENT: You must feed a value for placeholder tensor 'gradients/split_1_grad/concat/split_1/split_dim' with dtype int32\n",
      "\t [[{{node gradients/split_1_grad/concat/split_1/split_dim}}]]\n",
      "2024-05-30 17:55:15.891449: I tensorflow/core/common_runtime/executor.cc:1197] [/device:CPU:0] (DEBUG INFO) Executor start aborting (this does not indicate an error and you can ignore this message): INVALID_ARGUMENT: You must feed a value for placeholder tensor 'gradients/split_2_grad/concat/split_2/split_dim' with dtype int32\n",
      "\t [[{{node gradients/split_2_grad/concat/split_2/split_dim}}]]\n",
      "2024-05-30 17:55:15.894084: I tensorflow/core/common_runtime/executor.cc:1197] [/device:CPU:0] (DEBUG INFO) Executor start aborting (this does not indicate an error and you can ignore this message): INVALID_ARGUMENT: You must feed a value for placeholder tensor 'gradients/split_grad/concat/split/split_dim' with dtype int32\n",
      "\t [[{{node gradients/split_grad/concat/split/split_dim}}]]\n",
      "2024-05-30 17:55:15.895701: I tensorflow/core/common_runtime/executor.cc:1197] [/device:CPU:0] (DEBUG INFO) Executor start aborting (this does not indicate an error and you can ignore this message): INVALID_ARGUMENT: You must feed a value for placeholder tensor 'gradients/split_1_grad/concat/split_1/split_dim' with dtype int32\n",
      "\t [[{{node gradients/split_1_grad/concat/split_1/split_dim}}]]\n",
      "2024-05-30 17:55:16.632851: I tensorflow/core/common_runtime/executor.cc:1197] [/device:CPU:0] (DEBUG INFO) Executor start aborting (this does not indicate an error and you can ignore this message): INVALID_ARGUMENT: You must feed a value for placeholder tensor 'gradients/split_2_grad/concat/split_2/split_dim' with dtype int32\n",
      "\t [[{{node gradients/split_2_grad/concat/split_2/split_dim}}]]\n",
      "2024-05-30 17:55:16.635146: I tensorflow/core/common_runtime/executor.cc:1197] [/device:CPU:0] (DEBUG INFO) Executor start aborting (this does not indicate an error and you can ignore this message): INVALID_ARGUMENT: You must feed a value for placeholder tensor 'gradients/split_grad/concat/split/split_dim' with dtype int32\n",
      "\t [[{{node gradients/split_grad/concat/split/split_dim}}]]\n",
      "2024-05-30 17:55:16.637320: I tensorflow/core/common_runtime/executor.cc:1197] [/device:CPU:0] (DEBUG INFO) Executor start aborting (this does not indicate an error and you can ignore this message): INVALID_ARGUMENT: You must feed a value for placeholder tensor 'gradients/split_1_grad/concat/split_1/split_dim' with dtype int32\n",
      "\t [[{{node gradients/split_1_grad/concat/split_1/split_dim}}]]\n",
      "2024-05-30 17:55:22.922002: I tensorflow/core/common_runtime/executor.cc:1197] [/device:CPU:0] (DEBUG INFO) Executor start aborting (this does not indicate an error and you can ignore this message): INVALID_ARGUMENT: You must feed a value for placeholder tensor 'gradients/split_2_grad/concat/split_2/split_dim' with dtype int32\n",
      "\t [[{{node gradients/split_2_grad/concat/split_2/split_dim}}]]\n",
      "2024-05-30 17:55:22.923864: I tensorflow/core/common_runtime/executor.cc:1197] [/device:CPU:0] (DEBUG INFO) Executor start aborting (this does not indicate an error and you can ignore this message): INVALID_ARGUMENT: You must feed a value for placeholder tensor 'gradients/split_grad/concat/split/split_dim' with dtype int32\n",
      "\t [[{{node gradients/split_grad/concat/split/split_dim}}]]\n",
      "2024-05-30 17:55:22.925241: I tensorflow/core/common_runtime/executor.cc:1197] [/device:CPU:0] (DEBUG INFO) Executor start aborting (this does not indicate an error and you can ignore this message): INVALID_ARGUMENT: You must feed a value for placeholder tensor 'gradients/split_1_grad/concat/split_1/split_dim' with dtype int32\n",
      "\t [[{{node gradients/split_1_grad/concat/split_1/split_dim}}]]\n"
     ]
    },
    {
     "name": "stdout",
     "output_type": "stream",
     "text": [
      "85/85 - 8s - loss: 0.6419 - accuracy: 0.6311 - val_loss: 0.5770 - val_accuracy: 0.6933 - 8s/epoch - 91ms/step\n",
      "Epoch 2/50\n",
      "85/85 - 4s - loss: 0.5689 - accuracy: 0.7063 - val_loss: 0.5290 - val_accuracy: 0.7333 - 4s/epoch - 42ms/step\n",
      "Epoch 3/50\n",
      "85/85 - 4s - loss: 0.5307 - accuracy: 0.7311 - val_loss: 0.5270 - val_accuracy: 0.7133 - 4s/epoch - 46ms/step\n",
      "Epoch 4/50\n",
      "85/85 - 4s - loss: 0.4931 - accuracy: 0.7600 - val_loss: 0.5186 - val_accuracy: 0.7433 - 4s/epoch - 45ms/step\n",
      "Epoch 5/50\n",
      "85/85 - 4s - loss: 0.4440 - accuracy: 0.7956 - val_loss: 0.5101 - val_accuracy: 0.7333 - 4s/epoch - 45ms/step\n",
      "Epoch 6/50\n",
      "85/85 - 4s - loss: 0.4185 - accuracy: 0.8070 - val_loss: 0.4952 - val_accuracy: 0.7300 - 4s/epoch - 48ms/step\n",
      "Epoch 7/50\n",
      "85/85 - 4s - loss: 0.3667 - accuracy: 0.8348 - val_loss: 0.5979 - val_accuracy: 0.7200 - 4s/epoch - 48ms/step\n",
      "Epoch 8/50\n",
      "85/85 - 4s - loss: 0.3607 - accuracy: 0.8404 - val_loss: 0.5790 - val_accuracy: 0.7133 - 4s/epoch - 52ms/step\n",
      "Epoch 9/50\n",
      "85/85 - 5s - loss: 0.3040 - accuracy: 0.8685 - val_loss: 0.4694 - val_accuracy: 0.7667 - 5s/epoch - 53ms/step\n",
      "Epoch 10/50\n",
      "85/85 - 4s - loss: 0.2591 - accuracy: 0.8900 - val_loss: 0.5206 - val_accuracy: 0.7567 - 4s/epoch - 49ms/step\n",
      "Epoch 11/50\n",
      "85/85 - 4s - loss: 0.2589 - accuracy: 0.8904 - val_loss: 0.5861 - val_accuracy: 0.7533 - 4s/epoch - 49ms/step\n",
      "Epoch 12/50\n",
      "85/85 - 4s - loss: 0.2073 - accuracy: 0.9174 - val_loss: 0.6459 - val_accuracy: 0.7600 - 4s/epoch - 42ms/step\n",
      "Epoch 13/50\n",
      "85/85 - 3s - loss: 0.2150 - accuracy: 0.9056 - val_loss: 0.6465 - val_accuracy: 0.7333 - 3s/epoch - 40ms/step\n",
      "Epoch 14/50\n",
      "85/85 - 4s - loss: 0.2166 - accuracy: 0.9126 - val_loss: 0.6479 - val_accuracy: 0.7400 - 4s/epoch - 44ms/step\n",
      "Epoch 15/50\n",
      "85/85 - 4s - loss: 0.1828 - accuracy: 0.9263 - val_loss: 0.6027 - val_accuracy: 0.7733 - 4s/epoch - 46ms/step\n",
      "Epoch 16/50\n",
      "85/85 - 4s - loss: 0.1858 - accuracy: 0.9252 - val_loss: 0.6260 - val_accuracy: 0.7467 - 4s/epoch - 48ms/step\n",
      "Epoch 17/50\n",
      "85/85 - 4s - loss: 0.1594 - accuracy: 0.9367 - val_loss: 0.6708 - val_accuracy: 0.7467 - 4s/epoch - 45ms/step\n",
      "Epoch 18/50\n",
      "85/85 - 4s - loss: 0.1498 - accuracy: 0.9385 - val_loss: 0.6902 - val_accuracy: 0.7400 - 4s/epoch - 45ms/step\n",
      "Epoch 19/50\n",
      "85/85 - 4s - loss: 0.1340 - accuracy: 0.9415 - val_loss: 0.7305 - val_accuracy: 0.7467 - 4s/epoch - 48ms/step\n",
      "Epoch 20/50\n",
      "85/85 - 4s - loss: 0.1587 - accuracy: 0.9322 - val_loss: 0.6801 - val_accuracy: 0.7367 - 4s/epoch - 46ms/step\n",
      "Epoch 21/50\n",
      "85/85 - 4s - loss: 0.1366 - accuracy: 0.9448 - val_loss: 0.7326 - val_accuracy: 0.7333 - 4s/epoch - 42ms/step\n",
      "Epoch 22/50\n",
      "85/85 - 4s - loss: 0.1271 - accuracy: 0.9496 - val_loss: 0.8093 - val_accuracy: 0.7400 - 4s/epoch - 51ms/step\n",
      "Epoch 23/50\n",
      "85/85 - 4s - loss: 0.1377 - accuracy: 0.9478 - val_loss: 0.6607 - val_accuracy: 0.7633 - 4s/epoch - 52ms/step\n",
      "Epoch 24/50\n",
      "85/85 - 3s - loss: 0.1097 - accuracy: 0.9541 - val_loss: 0.6754 - val_accuracy: 0.7433 - 3s/epoch - 40ms/step\n",
      "Epoch 25/50\n",
      "85/85 - 3s - loss: 0.1074 - accuracy: 0.9622 - val_loss: 0.7093 - val_accuracy: 0.7467 - 3s/epoch - 38ms/step\n",
      "Epoch 26/50\n",
      "85/85 - 4s - loss: 0.0988 - accuracy: 0.9593 - val_loss: 0.8551 - val_accuracy: 0.7400 - 4s/epoch - 42ms/step\n",
      "Epoch 27/50\n",
      "85/85 - 3s - loss: 0.0923 - accuracy: 0.9674 - val_loss: 0.7113 - val_accuracy: 0.7733 - 3s/epoch - 41ms/step\n",
      "Epoch 28/50\n",
      "85/85 - 4s - loss: 0.1148 - accuracy: 0.9567 - val_loss: 0.7104 - val_accuracy: 0.7500 - 4s/epoch - 41ms/step\n",
      "Epoch 29/50\n",
      "85/85 - 3s - loss: 0.0894 - accuracy: 0.9648 - val_loss: 0.7543 - val_accuracy: 0.7700 - 3s/epoch - 33ms/step\n",
      "Epoch 30/50\n",
      "85/85 - 4s - loss: 0.0929 - accuracy: 0.9656 - val_loss: 0.7306 - val_accuracy: 0.7567 - 4s/epoch - 44ms/step\n",
      "Epoch 31/50\n",
      "85/85 - 4s - loss: 0.0946 - accuracy: 0.9611 - val_loss: 0.7054 - val_accuracy: 0.7700 - 4s/epoch - 48ms/step\n",
      "Epoch 32/50\n",
      "85/85 - 4s - loss: 0.0834 - accuracy: 0.9704 - val_loss: 0.7907 - val_accuracy: 0.7500 - 4s/epoch - 47ms/step\n",
      "Epoch 33/50\n",
      "85/85 - 4s - loss: 0.0714 - accuracy: 0.9722 - val_loss: 0.8735 - val_accuracy: 0.7400 - 4s/epoch - 47ms/step\n",
      "Epoch 34/50\n",
      "85/85 - 4s - loss: 0.0782 - accuracy: 0.9726 - val_loss: 1.0879 - val_accuracy: 0.7233 - 4s/epoch - 42ms/step\n",
      "Epoch 35/50\n",
      "85/85 - 4s - loss: 0.1008 - accuracy: 0.9615 - val_loss: 0.7584 - val_accuracy: 0.7533 - 4s/epoch - 43ms/step\n",
      "Epoch 36/50\n",
      "85/85 - 4s - loss: 0.0702 - accuracy: 0.9726 - val_loss: 0.7605 - val_accuracy: 0.7800 - 4s/epoch - 45ms/step\n",
      "Epoch 37/50\n",
      "85/85 - 4s - loss: 0.1017 - accuracy: 0.9596 - val_loss: 0.5583 - val_accuracy: 0.7700 - 4s/epoch - 50ms/step\n",
      "Epoch 38/50\n",
      "85/85 - 4s - loss: 0.0919 - accuracy: 0.9648 - val_loss: 0.8457 - val_accuracy: 0.7333 - 4s/epoch - 46ms/step\n",
      "Epoch 39/50\n",
      "85/85 - 4s - loss: 0.0748 - accuracy: 0.9711 - val_loss: 0.8085 - val_accuracy: 0.7733 - 4s/epoch - 43ms/step\n",
      "Epoch 40/50\n",
      "85/85 - 3s - loss: 0.0650 - accuracy: 0.9767 - val_loss: 0.7907 - val_accuracy: 0.7600 - 3s/epoch - 41ms/step\n",
      "Epoch 41/50\n",
      "85/85 - 4s - loss: 0.0495 - accuracy: 0.9800 - val_loss: 0.8921 - val_accuracy: 0.7500 - 4s/epoch - 48ms/step\n",
      "Epoch 42/50\n",
      "85/85 - 3s - loss: 0.0625 - accuracy: 0.9781 - val_loss: 1.0896 - val_accuracy: 0.7600 - 3s/epoch - 40ms/step\n",
      "Epoch 43/50\n",
      "85/85 - 3s - loss: 0.0790 - accuracy: 0.9681 - val_loss: 0.9575 - val_accuracy: 0.7500 - 3s/epoch - 38ms/step\n",
      "Epoch 44/50\n",
      "85/85 - 3s - loss: 0.0658 - accuracy: 0.9726 - val_loss: 0.9436 - val_accuracy: 0.7533 - 3s/epoch - 36ms/step\n",
      "Epoch 45/50\n",
      "85/85 - 4s - loss: 0.0588 - accuracy: 0.9793 - val_loss: 0.8880 - val_accuracy: 0.7700 - 4s/epoch - 43ms/step\n",
      "Epoch 46/50\n",
      "85/85 - 4s - loss: 0.0618 - accuracy: 0.9763 - val_loss: 0.7775 - val_accuracy: 0.7500 - 4s/epoch - 48ms/step\n",
      "Epoch 47/50\n",
      "85/85 - 4s - loss: 0.0610 - accuracy: 0.9789 - val_loss: 0.8490 - val_accuracy: 0.7600 - 4s/epoch - 47ms/step\n",
      "Epoch 48/50\n",
      "85/85 - 4s - loss: 0.0593 - accuracy: 0.9770 - val_loss: 0.8742 - val_accuracy: 0.7500 - 4s/epoch - 48ms/step\n",
      "Epoch 49/50\n",
      "85/85 - 6s - loss: 0.0601 - accuracy: 0.9770 - val_loss: 1.0422 - val_accuracy: 0.7500 - 6s/epoch - 71ms/step\n",
      "Epoch 50/50\n",
      "85/85 - 4s - loss: 0.0508 - accuracy: 0.9826 - val_loss: 1.1048 - val_accuracy: 0.7500 - 4s/epoch - 42ms/step\n"
     ]
    }
   ],
   "source": [
    "# Build and Train the Model\n",
    "from tensorflow.keras.models import Sequential\n",
    "from tensorflow.keras.layers import Embedding, Dropout, Conv1D, MaxPooling1D, LSTM, Dense\n",
    "\n",
    "model = Sequential([\n",
    "    Embedding(vocab_size1 + 1, embedding_dim, input_length=54, weights=[embeddings_matrix], trainable=False),\n",
    "    Dropout(0.2),\n",
    "    Conv1D(64, 5, activation='relu'),\n",
    "    MaxPooling1D(pool_size=4),\n",
    "    LSTM(64),\n",
    "    Dense(1, activation='sigmoid')\n",
    "])\n",
    "\n",
    "model.compile(loss='binary_crossentropy', optimizer='adam', metrics=['accuracy'])\n",
    "\n",
    "num_epochs = 50\n",
    "history = model.fit(np.array(training_sequences1), np.array(training_labels), epochs=num_epochs,\n",
    "                    validation_data=(np.array(test_sequences1), np.array(test_labels)), verbose=2)"
   ]
  },
  {
   "cell_type": "code",
   "execution_count": 5,
   "id": "f69a713a-7e4e-484b-b7b3-7e22333d438d",
   "metadata": {},
   "outputs": [
    {
     "name": "stdout",
     "output_type": "stream",
     "text": [
      "This news is false\n"
     ]
    },
    {
     "name": "stderr",
     "output_type": "stream",
     "text": [
      "2024-05-30 17:58:39.924539: I tensorflow/core/common_runtime/executor.cc:1197] [/device:CPU:0] (DEBUG INFO) Executor start aborting (this does not indicate an error and you can ignore this message): INVALID_ARGUMENT: You must feed a value for placeholder tensor 'gradients/split_2_grad/concat/split_2/split_dim' with dtype int32\n",
      "\t [[{{node gradients/split_2_grad/concat/split_2/split_dim}}]]\n",
      "2024-05-30 17:58:39.927236: I tensorflow/core/common_runtime/executor.cc:1197] [/device:CPU:0] (DEBUG INFO) Executor start aborting (this does not indicate an error and you can ignore this message): INVALID_ARGUMENT: You must feed a value for placeholder tensor 'gradients/split_grad/concat/split/split_dim' with dtype int32\n",
      "\t [[{{node gradients/split_grad/concat/split/split_dim}}]]\n",
      "2024-05-30 17:58:39.928573: I tensorflow/core/common_runtime/executor.cc:1197] [/device:CPU:0] (DEBUG INFO) Executor start aborting (this does not indicate an error and you can ignore this message): INVALID_ARGUMENT: You must feed a value for placeholder tensor 'gradients/split_1_grad/concat/split_1/split_dim' with dtype int32\n",
      "\t [[{{node gradients/split_1_grad/concat/split_1/split_dim}}]]\n"
     ]
    }
   ],
   "source": [
    "# Detect Fake News\n",
    "sample_text = \"Karry to go to France in gesture of sympathy\"\n",
    "sample_sequence = tokenizer1.texts_to_sequences([sample_text])[0]\n",
    "sample_padded = pad_sequences([sample_sequence], maxlen=54, padding='post', truncating='post')\n",
    "\n",
    "prediction = model.predict(sample_padded, verbose=0)[0][0]\n",
    "if prediction >= 0.5:\n",
    "    print(\"This news is True\")\n",
    "else:\n",
    "    print(\"This news is false\")"
   ]
  }
 ],
 "metadata": {
  "kernelspec": {
   "display_name": "Python 3 (ipykernel)",
   "language": "python",
   "name": "python3"
  },
  "language_info": {
   "codemirror_mode": {
    "name": "ipython",
    "version": 3
   },
   "file_extension": ".py",
   "mimetype": "text/x-python",
   "name": "python",
   "nbconvert_exporter": "python",
   "pygments_lexer": "ipython3",
   "version": "3.11.5"
  }
 },
 "nbformat": 4,
 "nbformat_minor": 5
}
